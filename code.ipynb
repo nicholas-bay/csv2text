{
 "cells": [
  {
   "cell_type": "code",
   "execution_count": 30,
   "metadata": {},
   "outputs": [],
   "source": [
    "import numpy as np\n",
    "import pandas as pd\n",
    "\n",
    "df = pd.read_csv('data.csv', on_bad_lines='skip', header=0)\n",
    "df.dropna(how='all', axis=1, inplace=True)\n",
    "header = np.array(df.columns)\n",
    "table = np.array(df)\n",
    "i = 1\n",
    "data_txt = \"\"\n",
    "\n",
    "for row in table:\n",
    "    data_txt += str(i) + \"\\n\"\n",
    "    for cell, header_cell in zip(row, header):\n",
    "        data_txt += (str(header_cell) + \": \" + str(cell) + \"\\n\")\n",
    "    i += 1\n",
    "\n",
    "with open(\"data.txt\", \"w\") as text_file:\n",
    "    text_file.write(data_txt)"
   ]
  }
 ],
 "metadata": {
  "kernelspec": {
   "display_name": "Python 3",
   "language": "python",
   "name": "python3"
  },
  "language_info": {
   "codemirror_mode": {
    "name": "ipython",
    "version": 3
   },
   "file_extension": ".py",
   "mimetype": "text/x-python",
   "name": "python",
   "nbconvert_exporter": "python",
   "pygments_lexer": "ipython3",
   "version": "3.9.6"
  }
 },
 "nbformat": 4,
 "nbformat_minor": 2
}
